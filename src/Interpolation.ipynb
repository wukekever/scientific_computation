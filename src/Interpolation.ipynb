{
 "cells": [
  {
   "cell_type": "markdown",
   "metadata": {},
   "source": [
    "#### ex 1:\n",
    "##### 对 Runge 函数：\n",
    "$$\n",
    "R(x) = \\frac{1}{1+x^2},\\quad x\\in[-5,5]\n",
    "$$\n",
    "##### 利用下列条件做插值、逼近并与 $R(x)$ 的图像进行比较\n",
    "##### (1) 用等距节点 $x_i = -5 + i \\; (i = 0, 1, \\cdots, 10)$, 绘出它的 10 次  Newton 插值多项式的图像;\n",
    "##### (2) 用节点 $x_i = 5 \\cos \\left ( \\frac{2i+1}{42} \\pi \\right ) \\; (i = 0, 1, \\cdots, 20)$, 绘出它的 20 次 Lagrange 插值多项式的图像;\n",
    "##### (3) 用等距节点 $x_i = -5 + i \\; (i = 0, 1, \\cdots, 10)$, 绘出它的分段线性插值函数的图像."
   ]
  },
  {
   "cell_type": "markdown",
   "metadata": {},
   "source": [
    "\n",
    "##### Newton interpolation \n",
    "$$\n",
    "f(x) \\approx N_n(x) = f[x_0] + f[x_0, x_1] (x - x_0) + \\cdots + f[x_0, x_1, \\cdots, x_{n-1}] (x - x_0)(x - x_1) \\cdots (x - x_{n-1}).\n",
    "$$\n",
    "\n",
    "##### *Remark*:\n",
    "$$\n",
    "f[x_0, x_1, \\cdots, x_k] = \\sum_{j = 0}^k \\frac{f(x_j)}{(x_j - x_0)(x_j - x_1) \\cdots (x_j - x_{j-1})(x_j - x_{j+1}) \\cdots (x_j - x_k)}.\n",
    "$$\n",
    "\n",
    "##### Lagrange interpolation\n",
    "$$\n",
    "f(x) \\approx L_n(x) = \\sum_{i = 0}^n f(x_i) l_i(x) \\quad \\text{with} \\quad l_i(x) = \\prod_{j \\neq i} \\frac{x - x_j}{x_i - x_j}\n",
    "$$"
   ]
  },
  {
   "cell_type": "code",
   "execution_count": null,
   "metadata": {},
   "outputs": [],
   "source": [
    "%matplotlib inline\n",
    "\n",
    "import numpy as np\n",
    "import matplotlib.pyplot as plt\n",
    "from typing import List, Tuple  # 使用 typing 库对以下代码进行类型提示\n",
    "\n",
    "# import os\n",
    "from make_dir import mkdir\n",
    "\n",
    "mkdir(file_dir=\"./figure\")"
   ]
  },
  {
   "cell_type": "code",
   "execution_count": null,
   "metadata": {},
   "outputs": [],
   "source": [
    "def R(x: float) -> float:\n",
    "    return 1.0 / (1.0 + x**2)\n"
   ]
  },
  {
   "cell_type": "code",
   "execution_count": null,
   "metadata": {},
   "outputs": [],
   "source": [
    "def newton_interp(grids: Tuple[List[float], List[float]], x: float) -> float:\n",
    "    grid_x, grid_y = grids\n",
    "    assert len(grid_x) == len(grid_x), \"Error: Length of grid_x and grid_y must be the same!\"\n",
    "    \n",
    "    newton_sum, basis_func = 0.0, 1.0\n",
    "    for i in range(len(grid_x)):\n",
    "        coef = 0.0\n",
    "        for j in range(i + 1):\n",
    "            g = 1.0\n",
    "            for k in range(i + 1):\n",
    "                if k != j:\n",
    "                    dist = grid_x[j] - grid_x[k]\n",
    "                    assert abs(dist) > 1.0e-8, f\"[Error: The distance between x_{k:d} and x_{j:d} are too small!]\"\n",
    "                    g *= dist\n",
    "\n",
    "            coef += grid_y[j] / g\n",
    "        newton_sum += coef * basis_func\n",
    "        basis_func *= x - grid_x[i]\n",
    "\n",
    "    return newton_sum\n"
   ]
  },
  {
   "cell_type": "code",
   "execution_count": null,
   "metadata": {},
   "outputs": [],
   "source": [
    "def _newton_interp(grids: Tuple[List[float], List[float]], x: float) -> float:\n",
    "    grid_x, grid_y = grids\n",
    "    size_x = len(grid_x)\n",
    "\n",
    "    D = np.zeros((size_x, size_x))\n",
    "    D[:, 0] = grid_y\n",
    "    for j in range(1, size_x):\n",
    "        for k in range(j, size_x):\n",
    "            D[k, j] = (D[k, j - 1] - D[k - 1, j - 1]) / (grid_x[k] - grid_x[k - j])\n",
    "\n",
    "    newton_sum, basis_func = 0.0, 1.0\n",
    "    for i in range(size_x):\n",
    "        newton_sum += D[i, i] * basis_func\n",
    "        basis_func *= x - grid_x[i]\n",
    "\n",
    "    return newton_sum\n"
   ]
  },
  {
   "cell_type": "code",
   "execution_count": null,
   "metadata": {},
   "outputs": [],
   "source": [
    "# def linear_interp(grids: Tuple[List[float], List[float]], x: float) -> float:\n",
    "#     grid_x, grid_y = grids\n",
    "#     assert len(grid_x) == len(grid_x), \"Error: Length of grid_x and grid_y must be the same!\"\n",
    "\n",
    "#     order = np.argsort(grid_x)\n",
    "#     grid_x, grid_y = grid_x[order], grid_y[order]\n",
    "\n",
    "#     linear_sum = 0.0\n",
    "#     for i in range(len(grid_x) - 1):\n",
    "#         dist = grid_x[i + 1] - grid_x[i]\n",
    "#         assert abs(dist) > 1.0e-8, \"[Error: The distance between x_{:d} and x_{:d} are too small !]\".format(i, i + 1)\n",
    "#         basis_func = (grid_y[i] * (grid_x[i + 1] - x) + grid_y[i + 1] * (x - grid_x[i])) / (grid_x[i + 1] - grid_x[i])\n",
    "#         func = lambda x: 1 if (x < grid_x[i + 1] and x >= grid_x[i]) else 0.0\n",
    "#         cond = np.array(list(map(func, x)))\n",
    "#         linear_sum += basis_func * cond\n",
    "\n",
    "#     return linear_sum\n"
   ]
  },
  {
   "cell_type": "code",
   "execution_count": null,
   "metadata": {},
   "outputs": [],
   "source": [
    "x = np.linspace(-5, 5, 11)\n",
    "xx = np.linspace(-5, 5, 101)"
   ]
  },
  {
   "cell_type": "code",
   "execution_count": null,
   "metadata": {},
   "outputs": [],
   "source": [
    "%timeit newton_interp(grids = [x, R(x)], x = xx)"
   ]
  },
  {
   "cell_type": "code",
   "execution_count": null,
   "metadata": {},
   "outputs": [],
   "source": [
    "%timeit _newton_interp(grids = [x, R(x)], x = xx)"
   ]
  },
  {
   "cell_type": "code",
   "execution_count": null,
   "metadata": {},
   "outputs": [],
   "source": [
    "max(abs(_newton_interp(grids=[x, R(x)], x=xx) - newton_interp(grids=[x, R(x)], x=xx)))"
   ]
  },
  {
   "cell_type": "code",
   "execution_count": null,
   "metadata": {},
   "outputs": [],
   "source": [
    "x = np.linspace(-5, 5, 11)\n",
    "# x = 5.0 * np.cos((2.0*x + 1.0) / 42.0 * np.pi)\n",
    "xx = np.linspace(-5, 5, 101)\n",
    "y = _newton_interp(grids=[x, R(x)], x=xx)\n",
    "plt.style.use(\"seaborn-dark\")\n",
    "fig = plt.figure()\n",
    "plt.plot(x, R(x), color=\"r\", linewidth=0.0, marker=\"x\", label=\"grids\")\n",
    "plt.plot(\n",
    "    xx, y, color=\"b\", linewidth=1.0, linestyle=\"dashed\", label=r\"$N_n(x) \\; (n = 10)$\"\n",
    ")\n",
    "plt.plot(xx, R(xx), color=\"k\", label=r\"$R(x) = 1 / (1+x^2)$\")\n",
    "plt.xlabel(r\"$x$\")\n",
    "plt.ylabel(r\"$y$\")\n",
    "plt.grid()\n",
    "plt.legend()\n",
    "# plt.savefig(\"./figure/newton_interpolation.pdf\")\n",
    "plt.show()\n",
    "plt.close()"
   ]
  },
  {
   "cell_type": "code",
   "execution_count": null,
   "metadata": {},
   "outputs": [],
   "source": [
    "def lagrange_interp(grids: Tuple[List[float], List[float]], x: float) -> float:\n",
    "    grid_x, grid_y = grids\n",
    "    assert len(grid_x) == len(grid_x), \"Error: Length of grid_x and grid_y must be the same!\"\n",
    "\n",
    "    lagrange_sum = 0.0\n",
    "    length = len(grid_x)\n",
    "    for i in range(length):\n",
    "        x_i = grid_x[i]\n",
    "        basis_func = 1.0\n",
    "        for j in range(length):\n",
    "            if i != j:\n",
    "                dist = x_i - grid_x[j]\n",
    "                assert abs(dist) > 1.0e-8, \"[Error: The distance between x_{:d} and x_{:d} are too small !]\".format(i, j)\n",
    "                basis_func *= (x - grid_x[j]) / dist\n",
    "\n",
    "        lagrange_sum += grid_y[i] * basis_func\n",
    "\n",
    "    return lagrange_sum\n"
   ]
  },
  {
   "cell_type": "code",
   "execution_count": null,
   "metadata": {},
   "outputs": [],
   "source": [
    "index = np.linspace(0, 20, 21)\n",
    "x = 5.0 * np.cos((2.0 * index + 1.0) / 42.0 * np.pi)\n",
    "xx = np.linspace(-5, 5, 101)\n",
    "y = lagrange_interp(grids=[x, R(x)], x=xx)\n",
    "plt.style.use(\"seaborn-dark\")\n",
    "fig = plt.figure()\n",
    "plt.plot(x, R(x), color=\"r\", linewidth=0.0, marker=\"x\", label=\"grids\")\n",
    "plt.plot(\n",
    "    xx, y, color=\"b\", linewidth=1.0, linestyle=\"dashed\", label=\"$L_n(x) \\; (n = 20)$\"\n",
    ")\n",
    "plt.plot(xx, R(xx), color=\"k\", label=\"$R(x) = 1 / (1+x^2)$\")\n",
    "plt.xlabel(\"$x$\")\n",
    "plt.ylabel(\"$y$\")\n",
    "plt.grid()\n",
    "plt.legend()\n",
    "# plt.savefig(\"./figure/lagrange_interpolation.pdf\")\n",
    "plt.show()\n",
    "plt.close()"
   ]
  },
  {
   "cell_type": "code",
   "execution_count": null,
   "metadata": {},
   "outputs": [],
   "source": [
    "def linear_interp(grids: Tuple[List[float], List[float]], x: float) -> float:\n",
    "    grid_x, grid_y = grids\n",
    "    assert len(grid_x) == len(grid_x), \"Error: Length of grid_x and grid_y must be the same!\"\n",
    "\n",
    "    order = np.argsort(grid_x)\n",
    "    grid_x, grid_y = grid_x[order], grid_y[order]\n",
    "\n",
    "    linear_sum = 0.0\n",
    "    for i in range(len(grid_x) - 1):\n",
    "        dist = grid_x[i + 1] - grid_x[i]\n",
    "        assert abs(dist) > 1.0e-8, \"[Error: The distance between x_{:d} and x_{:d} are too small !]\".format(i, i + 1)\n",
    "        basis_func = (\n",
    "            grid_y[i] * (grid_x[i + 1] - x) + grid_y[i + 1] * (x - grid_x[i])\n",
    "        ) / (grid_x[i + 1] - grid_x[i])\n",
    "        func = lambda x: 1 if (x < grid_x[i + 1] and x >= grid_x[i]) else 0.0\n",
    "        cond = np.array(list(map(func, x)))\n",
    "        linear_sum += basis_func * cond\n",
    "\n",
    "    return linear_sum\n"
   ]
  },
  {
   "cell_type": "code",
   "execution_count": null,
   "metadata": {},
   "outputs": [],
   "source": [
    "x = np.linspace(-5, 5, 11)\n",
    "xx = np.linspace(-5, 5, 101)\n",
    "y = linear_interp(grids=[x, R(x)], x=xx)\n",
    "plt.style.use(\"seaborn-dark\")\n",
    "fig = plt.figure()\n",
    "plt.plot(x, R(x), color=\"r\", linewidth=0.0, marker=\"x\", label=\"grids\")\n",
    "plt.plot(\n",
    "    xx, y, color=\"r\", linewidth=1.0, linestyle=\"dashed\", label=\"$Linear(x) \\; (n = 10)$\"\n",
    ")\n",
    "plt.plot(xx, R(xx), color=\"k\", label=\"$R(x) = 1 / (1+x^2)$\")\n",
    "plt.xlabel(\"$x$\")\n",
    "plt.ylabel(\"$y$\")\n",
    "plt.grid()\n",
    "plt.legend()\n",
    "# plt.savefig(\"./figure/linear_interpolation.pdf\")\n",
    "plt.show()\n",
    "plt.close()"
   ]
  },
  {
   "cell_type": "code",
   "execution_count": null,
   "metadata": {},
   "outputs": [],
   "source": []
  },
  {
   "cell_type": "code",
   "execution_count": null,
   "metadata": {},
   "outputs": [],
   "source": []
  }
 ],
 "metadata": {
  "interpreter": {
   "hash": "7d5869e11385f44a167fd3d2cdea0e1e5c43dad84bdba40735d97de09139fbff"
  },
  "kernelspec": {
   "display_name": "Python 3.8.0 ('pytorch')",
   "language": "python",
   "name": "python3"
  },
  "language_info": {
   "codemirror_mode": {
    "name": "ipython",
    "version": 3
   },
   "file_extension": ".py",
   "mimetype": "text/x-python",
   "name": "python",
   "nbconvert_exporter": "python",
   "pygments_lexer": "ipython3",
   "version": "3.9.7"
  },
  "orig_nbformat": 4
 },
 "nbformat": 4,
 "nbformat_minor": 2
}
